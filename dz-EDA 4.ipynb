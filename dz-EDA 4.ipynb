{
 "cells": [
  {
   "cell_type": "markdown",
   "metadata": {},
   "source": [
    "# Домашнее задание"
   ]
  },
  {
   "cell_type": "markdown",
   "metadata": {},
   "source": [
    "****Используя информацию по мидиям Петербурга и Магадана, которые представлены в виде двух массивов petersburg и magadan в разделе ANOVA тест, проверьте данные на нормальность и на наличие корреляции. Для этого объедините 2 массива в DataFrame. Обоснуйте выбор теста на корреляцию. Сделайте вывод по гипотезе. Также ответьте на вопрос:\n",
    "Какова разница в среднем размере мидии в зависимости от города-производителя. Обоснуйте выбор теста. Сделайте вывод по гипотезе.****"
   ]
  },
  {
   "cell_type": "code",
   "execution_count": 1,
   "metadata": {},
   "outputs": [],
   "source": [
    "import pandas as pd\n",
    "import seaborn as sns \n",
    "from scipy.stats import shapiro # для проведения теста Шапиро-Уилка\n",
    "from scipy.stats import normaltest # для проведения теста Д’Агостино\n",
    "from scipy.stats import pearsonr # для использования функции pearsonr из библиотеки SciPy\n",
    "from scipy.stats import ttest_ind # для использования T-теста"
   ]
  },
  {
   "cell_type": "code",
   "execution_count": 2,
   "metadata": {},
   "outputs": [],
   "source": [
    "petersburg = [0.0974, 0.1352, 0.0817, 0.1016, 0.0968, 0.1064, 0.105]\n",
    "magadan = [0.1033, 0.0915, 0.0781, 0.0685, 0.0677, 0.0697, 0.0764,\n",
    "           0.0689]"
   ]
  },
  {
   "cell_type": "markdown",
   "metadata": {},
   "source": [
    "1 Создание DataFrame с последующим первоначальным анализом полученной структуры"
   ]
  },
  {
   "cell_type": "code",
   "execution_count": 3,
   "metadata": {},
   "outputs": [],
   "source": [
    "# Добавим 0 в конец массива для создания DataFrame\n",
    "petersburg = [0.0974, 0.1352, 0.0817, 0.1016, 0.0968, 0.1064, 0.105, 0]\n",
    "magadan = [0.1033, 0.0915, 0.0781, 0.0685, 0.0677, 0.0697, 0.0764,\n",
    "           0.0689]"
   ]
  },
  {
   "cell_type": "code",
   "execution_count": 4,
   "metadata": {},
   "outputs": [],
   "source": [
    "# Объединение массивы в DataFrame \n",
    "# Замена последнего нулевого значения средним\n",
    "data = pd.DataFrame({'petersburg': petersburg, 'magadan': magadan})\n",
    "data['petersburg'].iloc[7] = data['petersburg'].mean()"
   ]
  },
  {
   "cell_type": "code",
   "execution_count": 5,
   "metadata": {},
   "outputs": [
    {
     "name": "stdout",
     "output_type": "stream",
     "text": [
      "<class 'pandas.core.frame.DataFrame'>\n",
      "RangeIndex: 8 entries, 0 to 7\n",
      "Data columns (total 2 columns):\n",
      " #   Column      Non-Null Count  Dtype  \n",
      "---  ------      --------------  -----  \n",
      " 0   petersburg  8 non-null      float64\n",
      " 1   magadan     8 non-null      float64\n",
      "dtypes: float64(2)\n",
      "memory usage: 256.0 bytes\n"
     ]
    },
    {
     "data": {
      "text/plain": [
       "None"
      ]
     },
     "metadata": {},
     "output_type": "display_data"
    }
   ],
   "source": [
    "display(data.info())"
   ]
  },
  {
   "cell_type": "code",
   "execution_count": 6,
   "metadata": {},
   "outputs": [
    {
     "data": {
      "text/html": [
       "<div>\n",
       "<style scoped>\n",
       "    .dataframe tbody tr th:only-of-type {\n",
       "        vertical-align: middle;\n",
       "    }\n",
       "\n",
       "    .dataframe tbody tr th {\n",
       "        vertical-align: top;\n",
       "    }\n",
       "\n",
       "    .dataframe thead th {\n",
       "        text-align: right;\n",
       "    }\n",
       "</style>\n",
       "<table border=\"1\" class=\"dataframe\">\n",
       "  <thead>\n",
       "    <tr style=\"text-align: right;\">\n",
       "      <th></th>\n",
       "      <th>petersburg</th>\n",
       "      <th>magadan</th>\n",
       "    </tr>\n",
       "  </thead>\n",
       "  <tbody>\n",
       "    <tr>\n",
       "      <th>0</th>\n",
       "      <td>0.097400</td>\n",
       "      <td>0.1033</td>\n",
       "    </tr>\n",
       "    <tr>\n",
       "      <th>1</th>\n",
       "      <td>0.135200</td>\n",
       "      <td>0.0915</td>\n",
       "    </tr>\n",
       "    <tr>\n",
       "      <th>2</th>\n",
       "      <td>0.081700</td>\n",
       "      <td>0.0781</td>\n",
       "    </tr>\n",
       "    <tr>\n",
       "      <th>3</th>\n",
       "      <td>0.101600</td>\n",
       "      <td>0.0685</td>\n",
       "    </tr>\n",
       "    <tr>\n",
       "      <th>4</th>\n",
       "      <td>0.096800</td>\n",
       "      <td>0.0677</td>\n",
       "    </tr>\n",
       "    <tr>\n",
       "      <th>5</th>\n",
       "      <td>0.106400</td>\n",
       "      <td>0.0697</td>\n",
       "    </tr>\n",
       "    <tr>\n",
       "      <th>6</th>\n",
       "      <td>0.105000</td>\n",
       "      <td>0.0764</td>\n",
       "    </tr>\n",
       "    <tr>\n",
       "      <th>7</th>\n",
       "      <td>0.090512</td>\n",
       "      <td>0.0689</td>\n",
       "    </tr>\n",
       "  </tbody>\n",
       "</table>\n",
       "</div>"
      ],
      "text/plain": [
       "   petersburg  magadan\n",
       "0    0.097400   0.1033\n",
       "1    0.135200   0.0915\n",
       "2    0.081700   0.0781\n",
       "3    0.101600   0.0685\n",
       "4    0.096800   0.0677\n",
       "5    0.106400   0.0697\n",
       "6    0.105000   0.0764\n",
       "7    0.090512   0.0689"
      ]
     },
     "metadata": {},
     "output_type": "display_data"
    }
   ],
   "source": [
    "display(data)"
   ]
  },
  {
   "cell_type": "markdown",
   "metadata": {},
   "source": [
    "2 Оценка характера распределения данных (для выбора соответствующего теста на корреляцию)"
   ]
  },
  {
   "cell_type": "code",
   "execution_count": 7,
   "metadata": {},
   "outputs": [],
   "source": [
    "# Проверим, является ли распределение данных нормальным. \n",
    "H0 = 'Данные распределены нормально'\n",
    "Ha = 'Данные не распределены нормально'\n",
    "\n",
    "alpha = 0.05"
   ]
  },
  {
   "cell_type": "markdown",
   "metadata": {},
   "source": [
    "2.1 *Тест Шапиро-Уилка*"
   ]
  },
  {
   "cell_type": "code",
   "execution_count": 8,
   "metadata": {},
   "outputs": [
    {
     "name": "stdout",
     "output_type": "stream",
     "text": [
      "p=0.137\n",
      "Не можем отвергнуть нулевую гипотезу о нормальности данных\n"
     ]
    }
   ],
   "source": [
    "_, p = shapiro(data)\n",
    "print('p=%.3f' % p)\n",
    "\n",
    "# Интерпретация \n",
    "\n",
    "if p > alpha:\n",
    "\tprint(\"Не можем отвергнуть нулевую гипотезу о нормальности данных\")\n",
    "else:\n",
    "\tprint(\"Отвергаем нулевую гипотезу о нормальности данных\")"
   ]
  },
  {
   "cell_type": "markdown",
   "metadata": {},
   "source": [
    "2.2 *Тест Д’Агостино*"
   ]
  },
  {
   "cell_type": "code",
   "execution_count": 9,
   "metadata": {},
   "outputs": [
    {
     "name": "stdout",
     "output_type": "stream",
     "text": [
      "p=0.038\n",
      "Не можем отвергнуть нулевую гипотезу о нормальности данных\n"
     ]
    },
    {
     "name": "stderr",
     "output_type": "stream",
     "text": [
      "c:\\Users\\asdfr\\AppData\\Local\\Programs\\Python\\Python39\\lib\\site-packages\\scipy\\stats\\_stats_py.py:1806: UserWarning: kurtosistest only valid for n>=20 ... continuing anyway, n=8\n",
      "  warnings.warn(\"kurtosistest only valid for n>=20 ... continuing \"\n"
     ]
    }
   ],
   "source": [
    "_, p = normaltest(data)\n",
    "#normaltest возвращает двустороннюю вероятность для проверки гипотезы\n",
    "\n",
    "print('p=%.3f' % p[0])\n",
    "\n",
    "# Интерпретация \n",
    "\n",
    "if p[0] > alpha/2:\n",
    "\tprint(\"Не можем отвергнуть нулевую гипотезу о нормальности данных\")\n",
    "else:\n",
    "\tprint(\"Отвергаем нулевую гипотезу о нормальности данных\")"
   ]
  },
  {
   "cell_type": "markdown",
   "metadata": {},
   "source": [
    "***Вывод***: Не можем отвергнуть нулевую гипотезу, так как отличие распределения исследуемой выборки от нормального не является статистически значимым."
   ]
  },
  {
   "cell_type": "markdown",
   "metadata": {},
   "source": [
    "3 Проведение теста на корреляцию"
   ]
  },
  {
   "cell_type": "markdown",
   "metadata": {},
   "source": [
    "В качестве теста на корреляцию будем использовать параметрический тест на корреляцию Пирсона. \n",
    "Выбор в пользу данного теста делаем , так как размер мидий относится к количественным данным непрерывного типа, в исследуемой выборке распределение данных близко  к нормальному. В связи с этим и будем использовать параметрический тест на корреляцию Пирсона.\n",
    "\n",
    "Чтобы определить, является ли коэффициент корреляции между двумя переменными статистически значимым, выполним корреляционный тест с использованием функции pearsonr из библиотеки SciPy"
   ]
  },
  {
   "cell_type": "code",
   "execution_count": 10,
   "metadata": {},
   "outputs": [
    {
     "name": "stdout",
     "output_type": "stream",
     "text": [
      "Коэффициент корреляции между двумя переменными: 0.32\n",
      "Двустороннее значение p: 0.44\n",
      "0.4444981530678641 > 0.05. Не можем отвергнуть нулевую гипотезу о независимости выборок\n"
     ]
    }
   ],
   "source": [
    "corr, p = pearsonr(data['petersburg'], data['magadan'])\n",
    "print(f'Коэффициент корреляции между двумя переменными: {round(corr,2)}')\n",
    "print(f'Двустороннее значение p: {round(p,2)}')\n",
    "\n",
    "H0 = 'Отсутствие зависимости между наборами данных, то есть выборки независимы'\n",
    "Ha = 'Существует статистически значимая связь между двумя переменными'\n",
    "\n",
    "alpha = 0.05\n",
    "\n",
    "# Интерпретация \n",
    "\n",
    "if p > alpha:\n",
    "\tprint(f\"{p} > {alpha}. Не можем отвергнуть нулевую гипотезу о независимости выборок\")\n",
    "else:\n",
    "\tprint(f\"{p} <= {alpha}. Отвергаем нулевую гипотезу о независимости выборок\")"
   ]
  },
  {
   "cell_type": "markdown",
   "metadata": {},
   "source": [
    "***Вывод***: Не можем отвергнуть нулевую гипотезу о независимости выборок. \n",
    "Полученное значение коэффициента корреляции 0.32 свидетельствует о слабой связи между признаками; соответствующее значение p, равное 0.44, больше 0,05."
   ]
  },
  {
   "cell_type": "markdown",
   "metadata": {},
   "source": [
    "4 Проведение теста на сравнение выборок"
   ]
  },
  {
   "cell_type": "markdown",
   "metadata": {},
   "source": [
    "Как было указано выше, размер мидий относится к количественным данным непрерывного типа, в исследуемой выборке распределение данных близко  к нормальному. \n",
    "\n",
    "Также в данном наборе данных размеры выборок не превышают 30, и рассматриваются средние значения (1 параметр) для данных из разных совокупностей. \n",
    "\n",
    "В связи с этим в качестве теста на сравнение выборок используем Т-тест."
   ]
  },
  {
   "cell_type": "code",
   "execution_count": 12,
   "metadata": {},
   "outputs": [
    {
     "name": "stdout",
     "output_type": "stream",
     "text": [
      "0.01 <= 0.05. Отвергаем нулевую гипотезу об отсутствии значимой разницы\n"
     ]
    }
   ],
   "source": [
    "H0 = 'Отсутствие значимой разницы в размере мидий в двух разных городах'\n",
    "Ha = 'Существует значимая разница в размере мидий в двух разных городах'\n",
    "\n",
    "aplpha = 0.05\n",
    "\n",
    "def t_test(data):\n",
    "    test_results = ttest_ind(data['petersburg'], data['magadan'], equal_var=True)\n",
    "\n",
    "    p = round(test_results[1],2)\n",
    "\n",
    "    if p>alpha:\n",
    "        print(f\"{p} > {alpha}. Не можем отвергнуть нулевую гипотезу об отсутствии значимой разницы\")\n",
    "    else:\n",
    "        print(f\"{p} <= {alpha}. Отвергаем нулевую гипотезу об отсутствии значимой разницы\")\n",
    "\n",
    "t_test(data)"
   ]
  },
  {
   "cell_type": "markdown",
   "metadata": {},
   "source": [
    "***Вывод***: это p-value ниже, чем выбранный уровень значимости, поэтому считаем результаты статистически значимыми и отклоняем нулевую гипотезу, принимая альтернативную. В размере мидий в двух разных городах есть значимая разница."
   ]
  }
 ],
 "metadata": {
  "kernelspec": {
   "display_name": "Python 3.9.10 64-bit",
   "language": "python",
   "name": "python3"
  },
  "language_info": {
   "codemirror_mode": {
    "name": "ipython",
    "version": 3
   },
   "file_extension": ".py",
   "mimetype": "text/x-python",
   "name": "python",
   "nbconvert_exporter": "python",
   "pygments_lexer": "ipython3",
   "version": "3.9.10"
  },
  "orig_nbformat": 4,
  "vscode": {
   "interpreter": {
    "hash": "abef597d18bad138f71ce1ac3ba7f677efa5d0aa66e99a3cc777bf29b020f142"
   }
  }
 },
 "nbformat": 4,
 "nbformat_minor": 2
}
